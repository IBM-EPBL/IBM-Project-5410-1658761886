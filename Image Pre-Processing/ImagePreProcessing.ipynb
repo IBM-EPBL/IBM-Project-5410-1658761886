{
 "cells": [
  {
   "cell_type": "code",
   "execution_count": 10,
   "id": "c40721e2",
   "metadata": {},
   "outputs": [],
   "source": [
    "import numpy as np\n",
    "import tensorflow \n",
    "from tensorflow import keras\n",
    "from tensorflow.keras.models import Sequential\n",
    "from tensorflow.keras import layers\n",
    "from tensorflow.keras.layers import Dense,Flatten\n",
    "from tensorflow.keras.layers import Conv2D,MaxPooling2D,Dropout\n",
    "from keras.preprocessing.image import ImageDataGenerator\n",
    "import matplotlib.pyplot as plt"
   ]
  },
  {
   "cell_type": "code",
   "execution_count": 11,
   "id": "880b21a8",
   "metadata": {},
   "outputs": [],
   "source": [
    "from keras.preprocessing.image import ImageDataGenerator\n",
    "train_datagen = ImageDataGenerator(rescale=1./255,shear_range=0.2,zoom_range=0.2,horizontal_flip=True)\n",
    "test_datagen=ImageDataGenerator(rescale=1./255)"
   ]
  },
  {
   "cell_type": "code",
   "execution_count": 12,
   "id": "2b2f1cd9",
   "metadata": {},
   "outputs": [
    {
     "name": "stdout",
     "output_type": "stream",
     "text": [
      "Found 2626 images belonging to 5 classes.\n",
      "Found 1055 images belonging to 5 classes.\n"
     ]
    }
   ],
   "source": [
    "x_train = train_datagen.flow_from_directory(r'C:\\Users\\asus\\IBM\\Dataset\\TRAIN_SET',target_size=(64,64),batch_size=5,color_mode='rgb',class_mode='sparse')\n",
    "x_test = test_datagen.flow_from_directory(r'C:\\Users\\asus\\IBM\\Dataset\\TEST_SET',target_size=(64,64),batch_size=5,color_mode='rgb',class_mode='sparse')"
   ]
  },
  {
   "cell_type": "code",
   "execution_count": 13,
   "id": "418fc3cc",
   "metadata": {},
   "outputs": [
    {
     "name": "stdout",
     "output_type": "stream",
     "text": [
      "{'APPLES': 0, 'BANANA': 1, 'ORANGE': 2, 'PINEAPPLE': 3, 'WATERMELON': 4}\n"
     ]
    }
   ],
   "source": [
    "print(x_train.class_indices)"
   ]
  },
  {
   "cell_type": "code",
   "execution_count": 14,
   "id": "ebc9a153",
   "metadata": {},
   "outputs": [
    {
     "name": "stdout",
     "output_type": "stream",
     "text": [
      "{'APPLES': 0, 'BANANA': 1, 'ORANGE': 2, 'PINEAPPLE': 3, 'WATERMELON': 4}\n"
     ]
    }
   ],
   "source": [
    "print(x_test.class_indices)"
   ]
  },
  {
   "cell_type": "code",
   "execution_count": 15,
   "id": "829a2ac9",
   "metadata": {},
   "outputs": [
    {
     "data": {
      "text/plain": [
       "Counter({0: 606, 1: 445, 2: 479, 3: 621, 4: 475})"
      ]
     },
     "execution_count": 15,
     "metadata": {},
     "output_type": "execute_result"
    }
   ],
   "source": [
    "from collections import Counter as c\n",
    "c(x_train .labels)"
   ]
  },
  {
   "cell_type": "code",
   "execution_count": 16,
   "id": "8883e3dd",
   "metadata": {},
   "outputs": [],
   "source": [
    "model=Sequential()"
   ]
  },
  {
   "cell_type": "code",
   "execution_count": 19,
   "id": "611ef16f",
   "metadata": {},
   "outputs": [],
   "source": [
    "classifier = Sequential()\n",
    "classifier.add(Conv2D(32, (3,3),input_shape=(64,64,3), activation='relu'))\n",
    "classifier.add(MaxPooling2D(pool_size=(2,2)))\n",
    "\n",
    "classifier.add(Conv2D(32,(3,3), activation='relu'))\n",
    "classifier.add(MaxPooling2D(pool_size=(2,2)))\n",
    "classifier.add(Flatten())"
   ]
  },
  {
   "cell_type": "code",
   "execution_count": 21,
   "id": "00bf9c1c",
   "metadata": {},
   "outputs": [],
   "source": [
    "classifier.add(Dense(units=128,activation='relu'))\n",
    "classifier.add(Dense(units=5, activation='softmax'))"
   ]
  },
  {
   "cell_type": "code",
   "execution_count": 22,
   "id": "238b7839",
   "metadata": {},
   "outputs": [
    {
     "name": "stdout",
     "output_type": "stream",
     "text": [
      "Model: \"sequential_2\"\n",
      "_________________________________________________________________\n",
      " Layer (type)                Output Shape              Param #   \n",
      "=================================================================\n",
      " conv2d_1 (Conv2D)           (None, 62, 62, 32)        896       \n",
      "                                                                 \n",
      " max_pooling2d_1 (MaxPooling  (None, 31, 31, 32)       0         \n",
      " 2D)                                                             \n",
      "                                                                 \n",
      " conv2d_2 (Conv2D)           (None, 29, 29, 32)        9248      \n",
      "                                                                 \n",
      " max_pooling2d_2 (MaxPooling  (None, 14, 14, 32)       0         \n",
      " 2D)                                                             \n",
      "                                                                 \n",
      " flatten (Flatten)           (None, 6272)              0         \n",
      "                                                                 \n",
      " dense (Dense)               (None, 128)               802944    \n",
      "                                                                 \n",
      " dense_1 (Dense)             (None, 5)                 645       \n",
      "                                                                 \n",
      "=================================================================\n",
      "Total params: 813,733\n",
      "Trainable params: 813,733\n",
      "Non-trainable params: 0\n",
      "_________________________________________________________________\n"
     ]
    }
   ],
   "source": [
    "classifier.summary()"
   ]
  },
  {
   "cell_type": "code",
   "execution_count": 23,
   "id": "0059507c",
   "metadata": {},
   "outputs": [],
   "source": [
    "classifier.compile(optimizer='adam',loss='sparse_categorical_crossentropy', metrics=['accuracy'])"
   ]
  },
  {
   "cell_type": "code",
   "execution_count": 24,
   "id": "7f271ef9",
   "metadata": {},
   "outputs": [
    {
     "name": "stderr",
     "output_type": "stream",
     "text": [
      "C:\\Users\\asus\\AppData\\Local\\Temp\\ipykernel_5464\\1328553507.py:1: UserWarning: `Model.fit_generator` is deprecated and will be removed in a future version. Please use `Model.fit`, which supports generators.\n",
      "  classifier.fit_generator(generator=x_train,steps_per_epoch= len(x_train),epochs=20,validation_data=x_test,validation_steps = len(x_test))\n"
     ]
    },
    {
     "name": "stdout",
     "output_type": "stream",
     "text": [
      "Epoch 1/20\n",
      "526/526 [==============================] - 28s 44ms/step - loss: 0.1363 - accuracy: 0.9452 - val_loss: 0.0305 - val_accuracy: 0.9801\n",
      "Epoch 2/20\n",
      "526/526 [==============================] - 21s 39ms/step - loss: 0.0406 - accuracy: 0.9916 - val_loss: 0.0081 - val_accuracy: 1.0000\n",
      "Epoch 3/20\n",
      "526/526 [==============================] - 22s 42ms/step - loss: 9.7304e-04 - accuracy: 1.0000 - val_loss: 0.0100 - val_accuracy: 0.9972\n",
      "Epoch 4/20\n",
      "526/526 [==============================] - 22s 42ms/step - loss: 1.9113e-04 - accuracy: 1.0000 - val_loss: 0.0059 - val_accuracy: 1.0000\n",
      "Epoch 5/20\n",
      "526/526 [==============================] - 22s 42ms/step - loss: 9.9296e-05 - accuracy: 1.0000 - val_loss: 0.0013 - val_accuracy: 1.0000\n",
      "Epoch 6/20\n",
      "526/526 [==============================] - 22s 42ms/step - loss: 3.8734e-05 - accuracy: 1.0000 - val_loss: 0.0046 - val_accuracy: 1.0000\n",
      "Epoch 7/20\n",
      "526/526 [==============================] - 22s 42ms/step - loss: 1.4985e-04 - accuracy: 1.0000 - val_loss: 0.0062 - val_accuracy: 1.0000\n",
      "Epoch 8/20\n",
      "526/526 [==============================] - 22s 42ms/step - loss: 1.6764e-05 - accuracy: 1.0000 - val_loss: 0.0053 - val_accuracy: 1.0000\n",
      "Epoch 9/20\n",
      "526/526 [==============================] - 22s 42ms/step - loss: 1.2571e-05 - accuracy: 1.0000 - val_loss: 0.0028 - val_accuracy: 1.0000\n",
      "Epoch 10/20\n",
      "526/526 [==============================] - 22s 42ms/step - loss: 0.0742 - accuracy: 0.9825 - val_loss: 2.0776e-04 - val_accuracy: 1.0000\n",
      "Epoch 11/20\n",
      "526/526 [==============================] - 22s 42ms/step - loss: 0.0014 - accuracy: 1.0000 - val_loss: 0.0186 - val_accuracy: 0.9934\n",
      "Epoch 12/20\n",
      "526/526 [==============================] - 22s 42ms/step - loss: 3.5592e-05 - accuracy: 1.0000 - val_loss: 0.0373 - val_accuracy: 0.9763\n",
      "Epoch 13/20\n",
      "526/526 [==============================] - 22s 42ms/step - loss: 1.3771e-05 - accuracy: 1.0000 - val_loss: 0.0426 - val_accuracy: 0.9773\n",
      "Epoch 14/20\n",
      "526/526 [==============================] - 23s 43ms/step - loss: 1.6689e-05 - accuracy: 1.0000 - val_loss: 0.0273 - val_accuracy: 0.9858\n",
      "Epoch 15/20\n",
      "526/526 [==============================] - 22s 43ms/step - loss: 1.4195e-05 - accuracy: 1.0000 - val_loss: 0.0342 - val_accuracy: 0.9801\n",
      "Epoch 16/20\n",
      "526/526 [==============================] - 23s 43ms/step - loss: 4.3661e-06 - accuracy: 1.0000 - val_loss: 0.0432 - val_accuracy: 0.9773\n",
      "Epoch 17/20\n",
      "526/526 [==============================] - 23s 43ms/step - loss: 1.8306e-06 - accuracy: 1.0000 - val_loss: 0.0571 - val_accuracy: 0.9754\n",
      "Epoch 18/20\n",
      "526/526 [==============================] - 23s 43ms/step - loss: 1.4178e-06 - accuracy: 1.0000 - val_loss: 0.0744 - val_accuracy: 0.9735\n",
      "Epoch 19/20\n",
      "526/526 [==============================] - 23s 43ms/step - loss: 8.9287e-07 - accuracy: 1.0000 - val_loss: 0.0888 - val_accuracy: 0.9735\n",
      "Epoch 20/20\n",
      "526/526 [==============================] - 23s 44ms/step - loss: 1.3671e-06 - accuracy: 1.0000 - val_loss: 0.0349 - val_accuracy: 0.9839\n"
     ]
    },
    {
     "data": {
      "text/plain": [
       "<keras.callbacks.History at 0x158dc91d790>"
      ]
     },
     "execution_count": 24,
     "metadata": {},
     "output_type": "execute_result"
    }
   ],
   "source": [
    "classifier.fit_generator(generator=x_train,steps_per_epoch= len(x_train),epochs=20,validation_data=x_test,validation_steps = len(x_test))"
   ]
  },
  {
   "cell_type": "code",
   "execution_count": 27,
   "id": "03a18f3c",
   "metadata": {},
   "outputs": [],
   "source": [
    "classifier.save('nutrition.h5')"
   ]
  },
  {
   "cell_type": "code",
   "execution_count": null,
   "id": "d8a32bf8",
   "metadata": {},
   "outputs": [],
   "source": []
  },
  {
   "cell_type": "code",
   "execution_count": null,
   "id": "3a45c2ae",
   "metadata": {},
   "outputs": [],
   "source": []
  },
  {
   "cell_type": "code",
   "execution_count": null,
   "id": "91f972a0",
   "metadata": {},
   "outputs": [],
   "source": []
  },
  {
   "cell_type": "code",
   "execution_count": null,
   "id": "35781c19",
   "metadata": {},
   "outputs": [],
   "source": []
  }
 ],
 "metadata": {
  "kernelspec": {
   "display_name": "Python 3 (ipykernel)",
   "language": "python",
   "name": "python3"
  },
  "language_info": {
   "codemirror_mode": {
    "name": "ipython",
    "version": 3
   },
   "file_extension": ".py",
   "mimetype": "text/x-python",
   "name": "python",
   "nbconvert_exporter": "python",
   "pygments_lexer": "ipython3",
   "version": "3.9.12"
  }
 },
 "nbformat": 4,
 "nbformat_minor": 5
}
